{
 "cells": [
  {
   "cell_type": "code",
   "execution_count": 1,
   "metadata": {},
   "outputs": [],
   "source": [
    "import os\n",
    "os.sys.path.append(os.path.dirname(os.path.abspath('.')))"
   ]
  },
  {
   "cell_type": "markdown",
   "metadata": {},
   "source": [
    "## 数据准备"
   ]
  },
  {
   "cell_type": "code",
   "execution_count": 2,
   "metadata": {},
   "outputs": [
    {
     "data": {
      "text/plain": [
       "<Figure size 640x480 with 1 Axes>"
      ]
     },
     "metadata": {},
     "output_type": "display_data"
    }
   ],
   "source": [
    "import matplotlib.pyplot as plt\n",
    "import numpy as np\n",
    "from sklearn.datasets.samples_generator import make_blobs\n",
    "from model_selection.train_test_split import train_test_split\n",
    "\n",
    "X, _ = make_blobs(cluster_std=1.5, random_state=42, n_samples=1000, centers=3)\n",
    "X = np.dot(X, np.random.RandomState(0).randn(2, 2))    # 生成斜形类簇\n",
    "\n",
    "plt.clf()\n",
    "plt.scatter(X[:, 0], X[:, 1], alpha=0.3)\n",
    "plt.show()"
   ]
  },
  {
   "cell_type": "code",
   "execution_count": 3,
   "metadata": {},
   "outputs": [],
   "source": [
    "X_train, X_test = train_test_split(X, test_size=0.2)\n",
    "\n",
    "n_samples, n_feature = X_train.shape\n",
    "n_cluster = 3"
   ]
  },
  {
   "cell_type": "markdown",
   "metadata": {},
   "source": [
    "## 模型基础\n",
    "\n",
    "### 初始化\n",
    "首先需要随机初始化$K$个高斯分布。"
   ]
  },
  {
   "cell_type": "code",
   "execution_count": 4,
   "metadata": {},
   "outputs": [],
   "source": [
    "# # 随机初始化均值，维度为(n_cluster, n_feature)\n",
    "# # 生成范围/2是为了限制初始均值的生成范围\n",
    "# mu = np.random.randint(X_train.min()/2, X_train.max()/2, size=(n_cluster, n_feature))\n",
    "\n",
    "# # 一个协方差矩阵的维度为(n_feature,n_feature)\n",
    "# # 多个分布的协方差矩阵维度为(n_cluster,n_feature,n_feature)\n",
    "# cov = np.zeros((n_cluster, n_feature, n_feature))\n",
    "# for dim in range(len(cov)):\n",
    "#     np.fill_diagonal(cov[dim], 1)\n",
    "    \n",
    "# # 初始均匀的类分布概率\n",
    "# pi = np.ones(n_cluster)/n_cluster"
   ]
  },
  {
   "cell_type": "markdown",
   "metadata": {},
   "source": [
    "### E-step\n",
    "E-step的实质就是根据已有的概率分布计算样本属于各类的概率。"
   ]
  },
  {
   "cell_type": "code",
   "execution_count": 5,
   "metadata": {},
   "outputs": [],
   "source": [
    "# # 概率矩阵\n",
    "# P_mat = np.zeros((n_samples, n_cluster))\n",
    "\n",
    "# for k in range(n_cluster):\n",
    "#     g = multivariate_normal(mean=mu[k], cov=cov[k])    # 根据均值与方差生成多维分布\n",
    "\n",
    "#     # 计算X在各分布下出现的频率\n",
    "#     P_mat[:, k] = p*g.pdf(X_train)\n",
    "\n",
    "# # 归一化使频率变成概率\n",
    "# P_mat/=P_mat.sum(axis=1).reshape(-1,1)"
   ]
  },
  {
   "cell_type": "markdown",
   "metadata": {},
   "source": [
    "### M-step\n",
    "M-step的实质就是根据样本的归类情况，更新高斯分布的参数。"
   ]
  },
  {
   "cell_type": "code",
   "execution_count": 6,
   "metadata": {},
   "outputs": [],
   "source": [
    "# # M-step，更新参数\n",
    "# for k in range(n_cluster):\n",
    "#     N_k = np.sum(P_mat[:, k], axis=0)    # 类出现的频率\n",
    "#     mu[k] = (1/N_k)*np.sum(X_train*P_mat[:, k].reshape(-1, 1), axis=0)    # 该类的新均值\n",
    "#     cov[k] = ((1/N_k)*np.dot((P_mat[:, k].reshape(-1, 1)\n",
    "#                               * (X_train-mu[k])).T, (X_train-mu[k])))\n",
    "#     pi[k] = N_k/n_samples"
   ]
  },
  {
   "cell_type": "markdown",
   "metadata": {},
   "source": [
    "### 预测\n",
    "各高斯分布的参数训练好之后，预测的实质就是对测试样本再执行一次E-step。"
   ]
  },
  {
   "cell_type": "code",
   "execution_count": 7,
   "metadata": {},
   "outputs": [],
   "source": [
    "# # 测试集的概率矩阵\n",
    "# pred_mat=np.zeros((X_test.shape[0], n_cluster))\n",
    "\n",
    "# # 计算测试样本出现于各类的频率\n",
    "# for k in range(n_cluster):\n",
    "#     g=multivariate_normal(mean=mu[k],cov=cov[k])\n",
    "#     pred_mat[:,k]=pi[k]*g.pdf(X_test)\n",
    "\n",
    "# # 归一化得到概率\n",
    "# totol_N = pred_mat.sum(axis=1)\n",
    "# totol_N[totol_N == 0] = n_cluster\n",
    "# pred_mat /= totol_N.reshape(-1, 1)\n",
    "\n",
    "# # 概率最大者为预测值\n",
    "# Y_pred=np.argmax(pred_mat,axis=1)"
   ]
  },
  {
   "cell_type": "markdown",
   "metadata": {},
   "source": [
    "## 完整模型"
   ]
  },
  {
   "cell_type": "code",
   "execution_count": 8,
   "metadata": {
    "scrolled": true
   },
   "outputs": [],
   "source": [
    "# 随机初始化均值，维度为(n_cluster, n_feature)\n",
    "# 生成范围/2是为了限制初始均值的生成范围\n",
    "from scipy.stats import multivariate_normal    # 生成多维概率分布的方法\n",
    "mu = np.random.randint(X_train.min()/2, X_train.max() /\n",
    "                       2, size=(n_cluster, n_feature))\n",
    "\n",
    "# 一个协方差矩阵的维度为(n_feature,n_feature)\n",
    "# 多个分布的协方差矩阵维度为(n_cluster,n_feature,n_feature)\n",
    "cov = np.zeros((n_cluster, n_feature, n_feature))\n",
    "for dim in range(len(cov)):\n",
    "    np.fill_diagonal(cov[dim], 1)\n",
    "\n",
    "# 初始均匀的类分布概率\n",
    "pi = np.ones(n_cluster)/n_cluster\n",
    "\n",
    "# 概率矩阵\n",
    "P_mat = np.zeros((n_samples, n_cluster))\n",
    "\n",
    "\n",
    "max_iter = 20\n",
    "for i in range(max_iter):\n",
    "    # 对每一组参数进行计算\n",
    "    for k in range(n_cluster):\n",
    "        # 实时生成高斯分布，免去了存储\n",
    "        g = multivariate_normal(mean=mu[k], cov=cov[k])\n",
    "\n",
    "    # E-step，计算概率\n",
    "        # 计算X在各分布下出现的频率\n",
    "        P_mat[:, k] = pi[k]*g.pdf(X_train)\n",
    "\n",
    "    # 计算各样本出现的总频率\n",
    "    totol_N = P_mat.sum(axis=1)\n",
    "    # 如果某一样本在各类中的出现频率和为0，则使用K来代替，相当于分配等概率\n",
    "    totol_N[totol_N == 0] = n_cluster\n",
    "    P_mat /= totol_N.reshape(-1, 1)\n",
    "\n",
    "    # M-step，更新参数\n",
    "    for k in range(n_cluster):\n",
    "        N_k = np.sum(P_mat[:, k], axis=0)    # 类出现的频率\n",
    "        mu[k] = (1/N_k)*np.sum(X_train * P_mat[:, k].reshape(-1, 1),\n",
    "                               axis=0)    # 该类的新均值\n",
    "        cov[k] = ((1/N_k)*np.dot((P_mat[:, k].reshape(-1, 1) * (X_train-mu[k])).T,\n",
    "                                 (X_train-mu[k])))\n",
    "        pi[k] = N_k/n_samples\n",
    "\n",
    "\n",
    "# 迭代更新好参数之后，开始预测未知数据的类\n",
    "pred_mat = np.zeros((X_test.shape[0], n_cluster))\n",
    "for k in range(n_cluster):\n",
    "    g = multivariate_normal(mean=mu[k], cov=cov[k])\n",
    "    pred_mat[:, k] = pi[k]*g.pdf(X_test)\n",
    "\n",
    "totol_N = pred_mat.sum(axis=1)\n",
    "totol_N[totol_N == 0] = n_cluster\n",
    "pred_mat /= totol_N.reshape(-1, 1)\n",
    "Y_pred = np.argmax(pred_mat, axis=1)"
   ]
  },
  {
   "cell_type": "code",
   "execution_count": 9,
   "metadata": {},
   "outputs": [
    {
     "data": {
      "image/png": "[encoded data removed]",
      "text/plain": [
       "<Figure size 432x288 with 1 Axes>"
      ]
     },
     "metadata": {
      "needs_background": "light"
     },
     "output_type": "display_data"
    }
   ],
   "source": [
    "plt.clf()\n",
    "plt.scatter(X_test[:, 0], X_test[:, 1], c=Y_pred, alpha=0.3)\n",
    "plt.show()"
   ]
  },
  {
   "cell_type": "markdown",
   "metadata": {},
   "source": [
    "## 注意\n",
    "在GMM模型中存在一个奇异矩阵的问题。回顾多维高斯分布的情况，我们在计算协方差矩阵时的公式为：\n",
    "$$\n",
    "\\Sigma_{k}=\\Sigma_{i}P(c_{k}|x_{i})(x_{i}-\\mu_{k})^{T}(x_{i}-\\mu_{k})\n",
    "$$\n",
    "奇异矩阵问题只有在用户设置的参数$K_{user}$大于数据实际的类数$K$时才有可能发生。在这种情况下，随着参数的不断迭代优化，某一个多余的component可能只包含了单个样本，此时有$x_{i}=\\mu_{k}$，那么由上式得到的协方差矩阵为：\n",
    "$$\n",
    "\\Sigma_{k}=0\n",
    "$$\n",
    "再来看生成多维高斯分布的式子：\n",
    "$$\n",
    "N(x_{i}|\\mu_{k},\\Sigma_{k})=\\frac{1}{(2\\pi)^{n/2}\\Sigma_{k}^{1/2}}exp(-\\frac{1}{2}(x_{i}-\\mu_{k})^{T}\\Sigma_{k}^{-1}(x_{i}-\\mu_{k}))\n",
    "$$\n",
    "如果协方差是奇异的，那么就无法生成多维高斯分布，程序会报错。为了防止出现奇异协方差矩阵，每次在对协方差矩阵操作时人为加上一个微小值。"
   ]
  },
  {
   "cell_type": "code",
   "execution_count": 10,
   "metadata": {},
   "outputs": [],
   "source": [
    "reg_covar=1e-06"
   ]
  }
 ],
 "metadata": {
  "hide_input": false,
  "kernelspec": {
   "display_name": "Python 3",
   "language": "python",
   "name": "python3"
  },
  "language_info": {
   "codemirror_mode": {
    "name": "ipython",
    "version": 3
   },
   "file_extension": ".py",
   "mimetype": "text/x-python",
   "name": "python",
   "nbconvert_exporter": "python",
   "pygments_lexer": "ipython3",
   "version": "3.7.4"
  },
  "toc": {
   "base_numbering": 1,
   "nav_menu": {},
   "number_sections": true,
   "sideBar": true,
   "skip_h1_title": false,
   "title_cell": "Table of Contents",
   "title_sidebar": "Contents",
   "toc_cell": false,
   "toc_position": {},
   "toc_section_display": true,
   "toc_window_display": false
  }
 },
 "nbformat": 4,
 "nbformat_minor": 2
}
