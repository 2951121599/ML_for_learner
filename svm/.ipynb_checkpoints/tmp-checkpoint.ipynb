{
 "cells": [
  {
   "cell_type": "markdown",
   "metadata": {},
   "source": [
    "## SVM\n",
    "SVM的公式推导与优化方程都不难写出来，SVM算法的关键在于其训练过程，SMO比较复杂，这里先放《机器学习实战》中的实现代码，暂未深究，待完善补充。"
   ]
  },
  {
   "cell_type": "code",
   "execution_count": 1,
   "metadata": {},
   "outputs": [],
   "source": [
    "from numpy import *\n",
    "\n",
    "\n",
    "def selectJrand(i, m):\n",
    "    '''\n",
    "    在[0,m)范围内选择一个不等于i的随机数\n",
    "    '''\n",
    "    j = i\n",
    "    while (j == i):\n",
    "        j = int(random.uniform(0, m))\n",
    "    return j\n",
    "\n",
    "\n",
    "def clipAlpha(aj, H, L):\n",
    "    '''\n",
    "    参数截断\n",
    "    '''\n",
    "    if aj > H:\n",
    "        aj = H\n",
    "    if L > aj:\n",
    "        aj = L\n",
    "    return aj"
   ]
  },
  {
   "cell_type": "code",
   "execution_count": 2,
   "metadata": {},
   "outputs": [],
   "source": [
    "class optStruct:\n",
    "    # Initialize the structure with the parameters\n",
    "    def __init__(self, dataMatIn, classLabels, C, toler, kTup):\n",
    "        self.X = dataMatIn\n",
    "        self.labelMat = classLabels\n",
    "        self.C = C\n",
    "        self.tol = toler\n",
    "        self.m = shape(dataMatIn)[0]\n",
    "        self.alphas = mat(zeros((self.m, 1)))\n",
    "        self.b = 0\n",
    "        self.eCache = mat(zeros((self.m, 2)))  # first column is valid flag\n",
    "#         self.K = mat(zeros((self.m, self.m)))\n",
    "#         for i in range(self.m):\n",
    "#             self.K[:, i] = kernelTrans(self.X, self.X[i, :], kTup)\n",
    "\n",
    "\n",
    "def calcEk(oS, k):\n",
    "    fXk = float(multiply(oS.alphas, oS.labelMat).T*(oS.X*oS.X[k, :].T)) + oS.b\n",
    "    Ek = fXk - float(oS.labelMat[k])\n",
    "    return Ek\n",
    "\n",
    "\n",
    "def selectJ(i, oS, Ei):  # this is the second choice -heurstic, and calcs Ej\n",
    "    maxK = -1\n",
    "    maxDeltaE = 0\n",
    "    Ej = 0\n",
    "    # set valid #choose the alpha that gives the maximum delta E\n",
    "    oS.eCache[i] = [1, Ei]\n",
    "    validEcacheList = nonzero(oS.eCache[:, 0].A)[0]\n",
    "\n",
    "    if (len(validEcacheList)) > 1:\n",
    "        for k in validEcacheList:  # loop through valid Ecache values and find the one that maximizes delta E\n",
    "            if k == i:\n",
    "                continue  # don't calc for i, waste of time\n",
    "            Ek = calcEk(oS, k)\n",
    "            deltaE = abs(Ei - Ek)\n",
    "            if (deltaE > maxDeltaE):\n",
    "                maxK = k\n",
    "                maxDeltaE = deltaE\n",
    "                Ej = Ek\n",
    "        return maxK, Ej\n",
    "    else:  # in this case (first time around) we don't have any valid eCache values\n",
    "        j = selectJrand(i, oS.m)\n",
    "        Ej = calcEk(oS, j)\n",
    "    return j, Ej\n",
    "\n",
    "\n",
    "def updateEk(oS, k):  # after any alpha has changed update the new value in the cache\n",
    "    Ek = calcEk(oS, k)\n",
    "    oS.eCache[k] = [1, Ek]\n",
    "\n",
    "\n",
    "def innerL(i, oS):\n",
    "    Ei = calcEk(oS, i)\n",
    "    if ((oS.labelMat[i]*Ei < -oS.tol) and (oS.alphas[i] < oS.C)) or ((oS.labelMat[i]*Ei > oS.tol) and (oS.alphas[i] > 0)):\n",
    "        j, Ej = selectJ(i, oS, Ei)  # this has been changed from selectJrand\n",
    "        alphaIold = oS.alphas[i].copy()\n",
    "        alphaJold = oS.alphas[j].copy()\n",
    "\n",
    "        if (oS.labelMat[i] != oS.labelMat[j]):\n",
    "            L = max(0, oS.alphas[j] - oS.alphas[i])\n",
    "            H = min(oS.C, oS.C + oS.alphas[j] - oS.alphas[i])\n",
    "        else:\n",
    "            L = max(0, oS.alphas[j] + oS.alphas[i] - oS.C)\n",
    "            H = min(oS.C, oS.alphas[j] + oS.alphas[i])\n",
    "        if L == H:\n",
    "            return 0\n",
    "\n",
    "        eta = 2.0 * oS.X[i, :]*oS.X[j, :].T - \\\n",
    "            oS.X[i, :]*oS.X[i, :].T - \\\n",
    "            oS.X[j, :]*oS.X[j, :].T\n",
    "        if eta >= 0:\n",
    "            return 0\n",
    "        oS.alphas[j] -= oS.labelMat[j]*(Ei - Ej)/eta\n",
    "        oS.alphas[j] = clipAlpha(oS.alphas[j], H, L)\n",
    "        updateEk(oS, j)  # added this for the Ecache\n",
    "        if (abs(oS.alphas[j] - alphaJold) < 0.00001):\n",
    "            return 0\n",
    "        oS.alphas[i] += oS.labelMat[j]*oS.labelMat[i] * \\\n",
    "            (alphaJold - oS.alphas[j])  # update i by the same amount as j\n",
    "        # added this for the Ecache                    #the update is in the oppostie direction\n",
    "        updateEk(oS, i)\n",
    "        b1 = oS.b - Ei - oS.labelMat[i]*(oS.alphas[i]-alphaIold) * \\\n",
    "            oS.X[i, :]*oS.X[i, :].T - oS.labelMat[j] * \\\n",
    "                (oS.alphas[j]-alphaJold)*oS.X[i, :]*oS.X[j, :].T\n",
    "        b2 = oS.b - Ej - oS.labelMat[i]*(oS.alphas[i]-alphaIold) * \\\n",
    "            oS.X[i, :]*oS.X[j, :].T - oS.labelMat[j] * \\\n",
    "                (oS.alphas[j]-alphaJold)*oS.X[j, :]*oS.X[j, :].T\n",
    "        if (0 < oS.alphas[i]) and (oS.C > oS.alphas[i]):\n",
    "            oS.b = b1\n",
    "        elif (0 < oS.alphas[j]) and (oS.C > oS.alphas[j]):\n",
    "            oS.b = b2\n",
    "        else:\n",
    "            oS.b = (b1 + b2)/2.0\n",
    "        return 1\n",
    "    else:\n",
    "        return 0\n",
    "\n",
    "\n",
    "def smoP(dataMatIn, classLabels, C, toler, maxIter, kTup=('lin', 0)):  # full Platt SMO\n",
    "    oS = optStruct(mat(dataMatIn), mat(\n",
    "        classLabels).transpose(), C, toler, kTup)\n",
    "    iter = 0\n",
    "    entireSet = True\n",
    "    alphaPairsChanged = 0\n",
    "    while (iter < maxIter) and ((alphaPairsChanged > 0) or (entireSet)):\n",
    "        alphaPairsChanged = 0\n",
    "\n",
    "        if entireSet:  # go over all\n",
    "            for i in range(oS.m):\n",
    "                alphaPairsChanged += innerL(i, oS)\n",
    "            iter += 1\n",
    "        else:  # go over non-bound (railed) alphas\n",
    "            nonBoundIs = nonzero((oS.alphas.A > 0) * (oS.alphas.A < C))[0]\n",
    "            for i in nonBoundIs:\n",
    "                alphaPairsChanged += innerL(i, oS)\n",
    "            iter += 1\n",
    "\n",
    "        if entireSet:\n",
    "            entireSet = False  # toggle entire set loop\n",
    "        elif (alphaPairsChanged == 0):\n",
    "            entireSet = True\n",
    "    return oS.b, oS.alphas"
   ]
  },
  {
   "cell_type": "code",
   "execution_count": 39,
   "metadata": {},
   "outputs": [
    {
     "name": "stdout",
     "output_type": "stream",
     "text": [
      "(569, 30) (569,)\n"
     ]
    }
   ],
   "source": [
    "from sklearn.datasets import load_breast_cancer\n",
    "data=load_breast_cancer()\n",
    "\n",
    "dataArr=data.data\n",
    "labelArr=data.target\n",
    "labelArr[labelArr==0]=-1\n",
    "print(dataArr.shape,labelArr.shape)"
   ]
  },
  {
   "cell_type": "code",
   "execution_count": 40,
   "metadata": {
    "scrolled": true
   },
   "outputs": [],
   "source": [
    "# dataArr,labelArr=loadDataSet('testSet.txt')\n",
    "b,alpha=smoP(dataArr,labelArr,0.6,0.001,40)"
   ]
  },
  {
   "cell_type": "code",
   "execution_count": 41,
   "metadata": {},
   "outputs": [],
   "source": [
    "def calcWs(alphas,dataArr,classLabels):\n",
    "    X = mat(dataArr); labelMat = mat(classLabels).transpose()\n",
    "    m,n = shape(X)\n",
    "    w = zeros((n,1))\n",
    "    for i in range(m):\n",
    "        w += multiply(alphas[i]*labelMat[i],X[i,:].T)\n",
    "    return w"
   ]
  },
  {
   "cell_type": "code",
   "execution_count": 1,
   "metadata": {
    "scrolled": true
   },
   "outputs": [
    {
     "ename": "NameError",
     "evalue": "name 'calcWs' is not defined",
     "output_type": "error",
     "traceback": [
      "\u001b[1;31m---------------------------------------------------------------------------\u001b[0m",
      "\u001b[1;31mNameError\u001b[0m                                 Traceback (most recent call last)",
      "\u001b[1;32m<ipython-input-1-f7d88b820d73>\u001b[0m in \u001b[0;36m<module>\u001b[1;34m\u001b[0m\n\u001b[1;32m----> 1\u001b[1;33m \u001b[0mws\u001b[0m\u001b[1;33m=\u001b[0m\u001b[0mcalcWs\u001b[0m\u001b[1;33m(\u001b[0m\u001b[0malpha\u001b[0m\u001b[1;33m,\u001b[0m\u001b[0mdataArr\u001b[0m\u001b[1;33m,\u001b[0m\u001b[0mlabelArr\u001b[0m\u001b[1;33m)\u001b[0m\u001b[1;33m\u001b[0m\u001b[0m\n\u001b[0m",
      "\u001b[1;31mNameError\u001b[0m: name 'calcWs' is not defined"
     ]
    }
   ],
   "source": [
    "ws=calcWs(alpha,dataArr,labelArr)"
   ]
  },
  {
   "cell_type": "code",
   "execution_count": 45,
   "metadata": {},
   "outputs": [
    {
     "data": {
      "text/plain": [
       "-1"
      ]
     },
     "execution_count": 45,
     "metadata": {},
     "output_type": "execute_result"
    }
   ],
   "source": [
    "# 预测\n",
    "def predict(x_test,ws,b):\n",
    "    return 1 if x_test*mat(ws)+b>0 else -1\n",
    "\n",
    "predict(dataArr[567],ws,b)"
   ]
  },
  {
   "cell_type": "code",
   "execution_count": null,
   "metadata": {},
   "outputs": [],
   "source": []
  }
 ],
 "metadata": {
  "hide_input": false,
  "kernelspec": {
   "display_name": "Python 3",
   "language": "python",
   "name": "python3"
  },
  "language_info": {
   "codemirror_mode": {
    "name": "ipython",
    "version": 3
   },
   "file_extension": ".py",
   "mimetype": "text/x-python",
   "name": "python",
   "nbconvert_exporter": "python",
   "pygments_lexer": "ipython3",
   "version": "3.6.6"
  },
  "toc": {
   "base_numbering": 1,
   "nav_menu": {},
   "number_sections": true,
   "sideBar": true,
   "skip_h1_title": false,
   "title_cell": "Table of Contents",
   "title_sidebar": "Contents",
   "toc_cell": false,
   "toc_position": {},
   "toc_section_display": true,
   "toc_window_display": false
  }
 },
 "nbformat": 4,
 "nbformat_minor": 2
}
