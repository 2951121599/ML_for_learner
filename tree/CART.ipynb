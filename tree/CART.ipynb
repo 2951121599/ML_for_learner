{
 "cells": [
  {
   "cell_type": "markdown",
   "metadata": {},
   "source": [
    "## 数据准备"
   ]
  },
  {
   "cell_type": "code",
   "execution_count": 4,
   "metadata": {},
   "outputs": [
    {
     "name": "stdout",
     "output_type": "stream",
     "text": [
      "(404, 13) (102, 13) (404,) (102,)\n"
     ]
    }
   ],
   "source": [
    "import numpy as np\n",
    "from sklearn.datasets import load_boston\n",
    "data=load_boston()\n",
    "X,Y=data.data,data.target\n",
    "\n",
    "from sklearn.model_selection import train_test_split\n",
    "X_train,X_test,Y_train,Y_test=train_test_split(X,Y,test_size=0.2)\n",
    "\n",
    "print(X_train.shape,X_test.shape,Y_train.shape,Y_test.shape)"
   ]
  },
  {
   "cell_type": "markdown",
   "metadata": {},
   "source": [
    "## 模型基本"
   ]
  },
  {
   "cell_type": "markdown",
   "metadata": {},
   "source": [
    "因为CART树的结构是规范的，所以可以通过一个类来封装树的节点。"
   ]
  },
  {
   "cell_type": "code",
   "execution_count": 1,
   "metadata": {},
   "outputs": [],
   "source": [
    "class TreeNode:\n",
    "    def __init__(self,f_idx,val,left=None,right=None):\n",
    "        '''\n",
    "        f_idx: 划分的特征idx\n",
    "        val: 划分的特征值\n",
    "        '''\n",
    "        self.f=f_idx\n",
    "        self.val=val\n",
    "        self.left=left\n",
    "        self.right=right"
   ]
  },
  {
   "cell_type": "code",
   "execution_count": 17,
   "metadata": {
    "scrolled": true
   },
   "outputs": [],
   "source": [
    "def SplitData(data,f_idx,val):\n",
    "    '''\n",
    "    data: 待分割数据\n",
    "    f_idx: 特征idx\n",
    "    val: 该特征下的划分值\n",
    "    '''\n",
    "    data_left=data[data[:,f_idx]<=val]\n",
    "    data_right=data[data[:,f_idx]>val]\n",
    "    return data_left,data_right\n",
    "\n",
    "# data=np.c_[X_train,Y_train]\n",
    "# SplitData(data,0,1)"
   ]
  },
  {
   "cell_type": "code",
   "execution_count": null,
   "metadata": {},
   "outputs": [],
   "source": [
    "def creatTree(data,leafType=refLeaf,errType=regErr,param=(1,4)):\n",
    "    '''\n",
    "    leafType: 创建叶节点的函数名\n",
    "    errType: 损失函数名\n",
    "    '''\n",
    "    cut_f,cut_val=test(data,leafType,errType,param)    # 寻找最佳特征与特征值\n",
    "    \n",
    "    if not cut_f:\n",
    "        return val\n",
    "    \n",
    "    tree={}\n",
    "    tree['spInd']=cut_f\n",
    "    tree['spVal']=cut_val\n",
    "    \n",
    "    data_left,data_right=SplitData(data,cut_f,cut_val)    # 切分数据\n",
    "    tree['left']=creatTree(data_left,leafType,errType,param)\n",
    "    tree['right']=creatTree(data_right,leafType,errType,param)\n",
    "    \n",
    "    return tree\n",
    "\n",
    "def regLeaf(data):\n",
    "    return np.mean(data[:,-1])    # 返回数据中目标值的均值\n",
    "\n",
    "def regErr(data):\n",
    "    return np.var(data[:,-1])*len(data)    # 返回数据中目标的总方差\n",
    "\n",
    "def test(data,leafType=refLeaf,errType=regErr,param=(1,4)):\n",
    "    '''\n",
    "    \n",
    "    '''\n",
    "    tol_S,tol_N=param[0],param[1]\n",
    "    \n",
    "    if len(np.unique(data[:,-1]))==1:    # 目标值纯净\n",
    "        return None,leafType(data)    # 根据数据制造一个叶节点返回\n",
    "    \n",
    "    n_sample,n_feature=data.shape\n",
    "    S=errType(data)    # 目标值的总方差\n",
    "    best_S=inf;best_idx=0;best_val=0\n",
    "    \n",
    "    # 遍历所有特征与所有独特值\n",
    "    for f_idx in range(n_feature-1):    # 目标值不参与test\n",
    "        for val in np.unique(data[:,f_idx]):\n",
    "            data_left,data_right=SplitData(data,f_idx,val)\n",
    "            \n",
    "            # 如果分裂后某一分支的数据量小于阈值则放弃\n",
    "            if len(data_left)<tol_N or len(data_right)<tol_N:\n",
    "                continue\n",
    "            \n",
    "            "
   ]
  },
  {
   "cell_type": "code",
   "execution_count": null,
   "metadata": {},
   "outputs": [],
   "source": []
  }
 ],
 "metadata": {
  "hide_input": false,
  "kernelspec": {
   "display_name": "Python 3",
   "language": "python",
   "name": "python3"
  },
  "language_info": {
   "codemirror_mode": {
    "name": "ipython",
    "version": 3
   },
   "file_extension": ".py",
   "mimetype": "text/x-python",
   "name": "python",
   "nbconvert_exporter": "python",
   "pygments_lexer": "ipython3",
   "version": "3.6.6"
  },
  "toc": {
   "base_numbering": 1,
   "nav_menu": {},
   "number_sections": true,
   "sideBar": true,
   "skip_h1_title": false,
   "title_cell": "Table of Contents",
   "title_sidebar": "Contents",
   "toc_cell": false,
   "toc_position": {},
   "toc_section_display": true,
   "toc_window_display": false
  }
 },
 "nbformat": 4,
 "nbformat_minor": 2
}
