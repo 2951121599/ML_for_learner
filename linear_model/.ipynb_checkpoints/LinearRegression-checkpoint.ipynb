{
 "cells": [
  {
   "cell_type": "code",
   "execution_count": 37,
   "metadata": {},
   "outputs": [],
   "source": [
    "import numpy as np\n",
    "from sklearn.datasets import load_boston\n",
    "from sklearn.model_selection import train_test_split"
   ]
  },
  {
   "cell_type": "code",
   "execution_count": 38,
   "metadata": {},
   "outputs": [],
   "source": [
    "data=load_boston()\n",
    "X=data.data\n",
    "Y=data.target\n",
    "\n",
    "X_train,X_test,Y_train,Y_test=train_test_split(X,Y,test_size=0.2)"
   ]
  },
  {
   "cell_type": "markdown",
   "metadata": {},
   "source": [
    "数据$X$是一个$(n{\\times}m)$的矩阵，每一行是一个样本，每一列代表一个特征；标签$Y$是一个列向量，其行数与$X$相同。模型表达式为：\n",
    "$$\n",
    "\\hat{Y}=XW^{T}+b\n",
    "$$\n",
    "用代码描述即：\n",
    "```\n",
    "Y_hat=np.dot(X,W.T)+b\n",
    "```\n",
    "\n",
    "模型的损失函数为：\n",
    "$$\n",
    "\\begin{align}\n",
    "L&=\\sum\\limits_{i=1}^n(y^{(i)}-\\hat{y}^{(i)})^{2} \\\\\n",
    "&=\\frac{1}{n}(Y-\\hat{Y})^{T}(Y-\\hat{Y}) \\\\\n",
    "\\end{align}\n",
    "$$\n",
    "用代码描述为：\n",
    "```\n",
    "L=np.dot((Y-Y_hat).T,Y-Y_hat)/2/n\n",
    "```\n",
    "\n",
    "损失函数关于参数$W$与$b$的梯度可以求得：\n",
    "$$\n",
    "\\begin{align}\n",
    "\\frac{\\partial{L}}{\\partial{W}}&=\\frac{2}{n}(\\hat{Y}-Y)^{T}{\\cdot}X \\\\\n",
    "\\frac{\\partial{L}}{\\partial{b}}&=\\frac{2}{n}(\\hat{Y}-Y)^{T}{\\cdot}[1,1,...,1]^{T} \\\\\n",
    "\\end{align}\n",
    "$$\n",
    "用代码表示为：\n",
    "```\n",
    "dW=2*(Y_hat-Y).T.dot(X)/n\n",
    "db=2*(Y_hat-Y).T.dot(np.ones((n,1)))/n\n",
    "```\n",
    "\n",
    "参数更新：\n",
    "$$\n",
    "W:=W-{\\alpha}\\frac{\\partial{L}}{\\partial{W}}, \\quad b:b-{\\alpha}\\frac{\\partial{L}}{\\partial{b}}\n",
    "$$\n",
    "代码：\n",
    "```\n",
    "W=W-lr*dW\n",
    "b=b-lr*db\n",
    "```"
   ]
  },
  {
   "cell_type": "code",
   "execution_count": 65,
   "metadata": {},
   "outputs": [
    {
     "data": {
      "text/plain": [
       "89.27020521140128"
      ]
     },
     "execution_count": 65,
     "metadata": {},
     "output_type": "execute_result"
    }
   ],
   "source": [
    "class LinearRegression:\n",
    "    def __init__(self, lr=0.00001, batch_size=32, max_iter=1000):\n",
    "        self.lr = lr\n",
    "        self.batch_size = batch_size\n",
    "        self.max_iter = max_iter\n",
    "        self.W = None\n",
    "        self.b = None\n",
    "\n",
    "    def fit(self, X, Y):\n",
    "        X = X.copy()\n",
    "        Y = Y.copy()\n",
    "\n",
    "        n = X.shape[0]  # 样本数\n",
    "        m = X.shape[1]  # 特征数\n",
    "        assert Y.shape[0] == n  # 数据与标签应该相等\n",
    "        Y = Y.reshape((n, 1))  # 标签，列向量\n",
    "\n",
    "        self.W = np.random.rand(m).reshape((1, -1))  # 权重，行向量\n",
    "        self.b = np.ones((1, 1))  # 偏置\n",
    "\n",
    "        assert Y.shape == (n, 1)\n",
    "\n",
    "        num_batch = n // self.batch_size\n",
    "\n",
    "        for epoch in range(self.max_iter):\n",
    "            for i in range(num_batch + 1):\n",
    "                start_index = i * self.batch_size\n",
    "                end_index = (i + 1) * self.batch_size\n",
    "                if end_index <= n:\n",
    "                    X_batch = X[start_index:end_index + 1]\n",
    "                    Y_batch = Y[start_index:end_index + 1]\n",
    "                else:\n",
    "                    X_batch = X[start_index:]\n",
    "                    Y_batch = Y[start_index:]\n",
    "\n",
    "                Y_hat = X_batch.dot(self.W.T) + self.b\n",
    "                dW = 2 * (Y_hat - Y_batch).T.dot(X_batch) / n\n",
    "                db = 2 * (Y_hat - Y_batch).T.dot(np.ones((X_batch.shape[0], 1))) / n\n",
    "                assert (dW.shape == self.W.shape) & (db.shape == self.b.shape)\n",
    "\n",
    "                self.W = self.W - self.lr * dW\n",
    "                self.b = self.b - self.lr * db\n",
    "\n",
    "    def predict(self, X):\n",
    "        X = X.copy()\n",
    "        return np.squeeze(np.dot(X, self.W.T) + self.b)        # 将矩阵压缩成向量，与原始输入Y保持一致\n",
    "\n",
    "    \n",
    "line_reg=LinearRegression()\n",
    "line_reg.fit(X_train,Y_train)\n",
    "\n",
    "def RMSE(Y_true,Y_pred):\n",
    "    return sum((Y_true-Y_pred)**2)**0.5\n",
    "\n",
    "Y_pred=line_reg.predict(X_test)\n",
    "RMSE(Y_test,Y_pred)"
   ]
  },
  {
   "cell_type": "code",
   "execution_count": null,
   "metadata": {},
   "outputs": [],
   "source": []
  }
 ],
 "metadata": {
  "kernelspec": {
   "display_name": "Python 3",
   "language": "python",
   "name": "python3"
  },
  "language_info": {
   "codemirror_mode": {
    "name": "ipython",
    "version": 3
   },
   "file_extension": ".py",
   "mimetype": "text/x-python",
   "name": "python",
   "nbconvert_exporter": "python",
   "pygments_lexer": "ipython3",
   "version": "3.6.6"
  }
 },
 "nbformat": 4,
 "nbformat_minor": 2
}
