{
 "cells": [
  {
   "cell_type": "markdown",
   "metadata": {},
   "source": [
    "# 数据准备"
   ]
  },
  {
   "cell_type": "code",
   "execution_count": 1,
   "metadata": {},
   "outputs": [],
   "source": [
    "corpus = [\n",
    "    'This is the first document.',\n",
    "    'This document is the second document.',\n",
    "    'And this is the third one.',\n",
    "    'Is this the first document?',\n",
    "]"
   ]
  },
  {
   "cell_type": "markdown",
   "metadata": {},
   "source": [
    "# 预处理并生成词袋"
   ]
  },
  {
   "cell_type": "code",
   "execution_count": 2,
   "metadata": {},
   "outputs": [],
   "source": [
    "import re\n",
    "import numpy as np\n",
    "\n",
    "\n",
    "def preprocess(string):\n",
    "    string = string.lower()    # 小写化\n",
    "    string = re.sub(r\"[^a-zA-Z0-9]\", \" \", string)     # 标点转空格\n",
    "    return string\n",
    "\n",
    "\n",
    "bag = set()    # 词袋\n",
    "for string in corpus:\n",
    "    bag.update(preprocess(string).split())\n",
    "\n",
    "bag = np.array(sorted(list(bag)))"
   ]
  },
  {
   "cell_type": "markdown",
   "metadata": {},
   "source": [
    "# 计数"
   ]
  },
  {
   "cell_type": "code",
   "execution_count": 3,
   "metadata": {},
   "outputs": [
    {
     "name": "stdout",
     "output_type": "stream",
     "text": [
      "[[0 1 1 1 0 0 1 0 1]\n",
      " [0 2 0 1 0 1 1 0 1]\n",
      " [1 0 0 1 1 0 1 1 1]\n",
      " [0 1 1 1 0 0 1 0 1]]\n"
     ]
    }
   ],
   "source": [
    "from collections import Counter\n",
    "\n",
    "\n",
    "def count_word(string):\n",
    "    '''\n",
    "    对单个字串的向量化\n",
    "    '''\n",
    "    string = preprocess(string)\n",
    "    res = [0 for _ in range(len(bag))]\n",
    "    cnts = dict(Counter(string.split()))\n",
    "    for idx in range(len(bag)):\n",
    "        res[idx] = cnts.get(bag[idx], 0)\n",
    "    return res\n",
    "\n",
    "\n",
    "vec = np.array(list(map(count_word, corpus)))\n",
    "print(vec)"
   ]
  },
  {
   "cell_type": "code",
   "execution_count": 4,
   "metadata": {},
   "outputs": [
    {
     "data": {
      "text/plain": [
       "[array(['document', 'first', 'is', 'the', 'this'], dtype='<U8'),\n",
       " array(['document', 'is', 'second', 'the', 'this'], dtype='<U8'),\n",
       " array(['and', 'is', 'one', 'the', 'third', 'this'], dtype='<U8'),\n",
       " array(['document', 'first', 'is', 'the', 'this'], dtype='<U8')]"
      ]
     },
     "execution_count": 4,
     "metadata": {},
     "output_type": "execute_result"
    }
   ],
   "source": [
    "[bag[sub_vec > 0] for sub_vec in vec]"
   ]
  },
  {
   "cell_type": "code",
   "execution_count": null,
   "metadata": {},
   "outputs": [],
   "source": []
  }
 ],
 "metadata": {
  "hide_input": false,
  "kernelspec": {
   "display_name": "Python 3",
   "language": "python",
   "name": "python3"
  },
  "language_info": {
   "codemirror_mode": {
    "name": "ipython",
    "version": 3
   },
   "file_extension": ".py",
   "mimetype": "text/x-python",
   "name": "python",
   "nbconvert_exporter": "python",
   "pygments_lexer": "ipython3",
   "version": "3.6.6"
  },
  "toc": {
   "base_numbering": 1,
   "nav_menu": {},
   "number_sections": true,
   "sideBar": true,
   "skip_h1_title": false,
   "title_cell": "Table of Contents",
   "title_sidebar": "Contents",
   "toc_cell": false,
   "toc_position": {},
   "toc_section_display": true,
   "toc_window_display": false
  }
 },
 "nbformat": 4,
 "nbformat_minor": 2
}
