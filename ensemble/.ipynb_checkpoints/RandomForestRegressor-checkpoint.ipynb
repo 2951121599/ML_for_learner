{
 "cells": [
  {
   "cell_type": "markdown",
   "metadata": {},
   "source": [
    "## 数据准备"
   ]
  },
  {
   "cell_type": "code",
   "execution_count": 1,
   "metadata": {},
   "outputs": [
    {
     "name": "stdout",
     "output_type": "stream",
     "text": [
      "(404, 13) (102, 13) (404,) (102,)\n"
     ]
    }
   ],
   "source": [
    "import numpy as np\n",
    "\n",
    "from sklearn.datasets import load_boston\n",
    "data=load_boston()\n",
    "X,Y=data.data,data.target\n",
    "del data\n",
    "\n",
    "from sklearn.model_selection import train_test_split\n",
    "X_train,X_test,Y_train,Y_test=train_test_split(X,Y,test_size=0.2)\n",
    "print(X_train.shape,X_test.shape,Y_train.shape,Y_test.shape)\n",
    "\n",
    "# 把X，Y拼起来便于操作\n",
    "training_data=np.c_[X_train,Y_train]\n",
    "testing_data=np.c_[X_test,Y_test]\n",
    "\n",
    "# print(training_data.shape,testing_data.shape)"
   ]
  },
  {
   "cell_type": "markdown",
   "metadata": {},
   "source": [
    "## 模型基础\n",
    "RF跟普通树模型的区别很明显也很简单，每棵树在一个随机抽样的子数据集上训练，并且每次分裂时只在一个随机子空间上做test。为了简便，在抽样数据子集时同时随机选取$\\sqrt{m}$个子特征。\n",
    "\n",
    "注意，为了保持训练与预测时数据的一致性，这里没有丢弃未抽到的特征，而是将未抽到的特征列全部置零，相当于做了一个掩盖操作，不过弊端就是内存占用大。"
   ]
  },
  {
   "cell_type": "code",
   "execution_count": 2,
   "metadata": {},
   "outputs": [],
   "source": [
    "def RandomPatches(data):\n",
    "    '''\n",
    "    随机抽样函数，同时对样本与特征抽样\n",
    "    '''\n",
    "    n_samples, n_features = data.shape\n",
    "    n_features -= 1\n",
    "    sub_data=np.copy(data)\n",
    "\n",
    "    random_f_idx = np.random.choice(\n",
    "        n_features, size=int(np.sqrt(n_features)), replace=False)\n",
    "    mask_f_idx=[i for i in range(n_features) if i not in random_f_idx]    # 未抽到的特征idx\n",
    "    \n",
    "    random_data_idx = np.random.choice(n_samples, size=n_samples, replace=True)\n",
    "    sub_data=data[random_data_idx]\n",
    "    sub_data[:,mask_f_idx]=0    # 未抽到的特征列全部置零\n",
    "    return sub_data\n",
    "\n",
    "# RandomPatches(training_data)"
   ]
  },
  {
   "cell_type": "markdown",
   "metadata": {},
   "source": [
    "然后就可以实现一个简单的串行版本RF模型了。"
   ]
  },
  {
   "cell_type": "code",
   "execution_count": 6,
   "metadata": {},
   "outputs": [
    {
     "name": "stdout",
     "output_type": "stream",
     "text": [
      "[<tree.DecisionTreeRegressor.DecisionTreeRegressor object at 0x000002E0D1245B70>, <tree.DecisionTreeRegressor.DecisionTreeRegressor object at 0x000002E0D1245B38>, <tree.DecisionTreeRegressor.DecisionTreeRegressor object at 0x000002E0D1245C18>, <tree.DecisionTreeRegressor.DecisionTreeRegressor object at 0x000002E0D1245BA8>, <tree.DecisionTreeRegressor.DecisionTreeRegressor object at 0x000002E0B2CDADA0>]\n"
     ]
    }
   ],
   "source": [
    "import os\n",
    "os.sys.path.append(os.path.dirname(os.path.abspath('.')))\n",
    "\n",
    "from tree.DecisionTreeRegressor import DecisionTreeRegressor\n",
    "\n",
    "def RF_Reg(data,n_estimators=5):\n",
    "    trees=[]\n",
    "\n",
    "    for _ in range(n_estimators):\n",
    "        tree=DecisionTreeRegressor()\n",
    "        sub_data=RandomPatches(data)\n",
    "        tree.fit(sub_data[:,:-1],sub_data[:,-1])\n",
    "        trees.append(tree)\n",
    "        \n",
    "    return trees\n",
    "\n",
    "trees=RF_Reg(training_data)\n",
    "# print(trees)"
   ]
  },
  {
   "cell_type": "markdown",
   "metadata": {},
   "source": [
    "串行预测"
   ]
  },
  {
   "cell_type": "code",
   "execution_count": 7,
   "metadata": {
    "scrolled": true
   },
   "outputs": [
    {
     "name": "stdout",
     "output_type": "stream",
     "text": [
      "tree_0 MSE:46.83130390406163\n",
      "tree_1 MSE:57.09848394901172\n",
      "tree_2 MSE:50.00339508202974\n",
      "tree_3 MSE:23.285920485462704\n",
      "tree_4 MSE:33.48145667501045\n",
      "rf MSE:20.062179981348898\n"
     ]
    }
   ],
   "source": [
    "def predict(X_test, trees):\n",
    "    raw_pred = np.array([tree.predict(X_test) for tree in trees]).T\n",
    "    return raw_pred    # 返回原始结果\n",
    "#     return np.mean(raw_pred,axis=1)    # 返回均化结果\n",
    "\n",
    "Y_pred = predict(testing_data[:, :-1], trees)\n",
    "\n",
    "# 输出每一棵树的单独预测的MSE\n",
    "for i in range(len(trees)):\n",
    "    cur_pred = Y_pred[:, i]\n",
    "    print('tree_{} MSE:{}'.format(i, np.mean(np.square(cur_pred - Y_test))))\n",
    "\n",
    "# 输出RF均化后的MSE\n",
    "mean_pred = np.mean(Y_pred,axis=1)\n",
    "print('rf MSE:{}'.format(np.mean(np.square(mean_pred - Y_test))))"
   ]
  },
  {
   "cell_type": "markdown",
   "metadata": {},
   "source": [
    "多次运行可以发现，RF的MSE有时甚至还会劣于单颗CART树，这是因为这里做的是等权重的均化。实际上应该为每一棵树的预测结果赋一个权重系数，MSE低的树预测结果权重大。下面使用sklearn中的RF作对比："
   ]
  },
  {
   "cell_type": "code",
   "execution_count": 13,
   "metadata": {},
   "outputs": [
    {
     "name": "stdout",
     "output_type": "stream",
     "text": [
      "sklearn MSE:12.277904301558097\n"
     ]
    }
   ],
   "source": [
    "from sklearn.ensemble import RandomForestRegressor\n",
    "rf_reg=RandomForestRegressor(n_estimators=5,min_samples_split=5,min_samples_leaf=5)\n",
    "rf_reg.fit(X_train,Y_train)\n",
    "Y_pred=rf_reg.predict(X_test)\n",
    "print('sklearn MSE:{}'.format(np.mean(np.square(Y_pred - Y_test))))"
   ]
  },
  {
   "cell_type": "markdown",
   "metadata": {},
   "source": [
    "差的有点大，恩，预测结果得做一下加权才行，待完善。。。"
   ]
  }
 ],
 "metadata": {
  "hide_input": false,
  "kernelspec": {
   "display_name": "Python 3",
   "language": "python",
   "name": "python3"
  },
  "language_info": {
   "codemirror_mode": {
    "name": "ipython",
    "version": 3
   },
   "file_extension": ".py",
   "mimetype": "text/x-python",
   "name": "python",
   "nbconvert_exporter": "python",
   "pygments_lexer": "ipython3",
   "version": "3.6.6"
  },
  "toc": {
   "base_numbering": 1,
   "nav_menu": {},
   "number_sections": true,
   "sideBar": true,
   "skip_h1_title": false,
   "title_cell": "Table of Contents",
   "title_sidebar": "Contents",
   "toc_cell": false,
   "toc_position": {},
   "toc_section_display": true,
   "toc_window_display": false
  }
 },
 "nbformat": 4,
 "nbformat_minor": 2
}
