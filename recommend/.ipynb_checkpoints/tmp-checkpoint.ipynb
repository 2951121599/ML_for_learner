{
 "cells": [
  {
   "cell_type": "markdown",
   "metadata": {},
   "source": [
    "前两个notebook在简易数据上分别讲了基于用户与物品的CF算法，注意到两者都需要一个用户-物品矩阵，"
   ]
  },
  {
   "cell_type": "code",
   "execution_count": 1,
   "metadata": {},
   "outputs": [
    {
     "name": "stdout",
     "output_type": "stream",
     "text": [
      "(80000, 3) (20000, 3)\n"
     ]
    }
   ],
   "source": [
    "import pandas as pd\n",
    "import numpy as np\n",
    "train = pd.read_table('../datasets/ml-100k/u1.base',\n",
    "                      sep='\\t', header=None).iloc[:, :3].values\n",
    "test = pd.read_table('../datasets/ml-100k/u1.test',\n",
    "                     sep='\\t', header=None).iloc[:, :3].values\n",
    "n_users, n_items = 943+1, 1682+1    # 数据idx从1开始\n",
    "n_samples = train.shape[0]\n",
    "\n",
    "print(train.shape, test.shape)"
   ]
  },
  {
   "cell_type": "code",
   "execution_count": 2,
   "metadata": {},
   "outputs": [
    {
     "data": {
      "text/plain": [
       "array([ 943, 1682,    5], dtype=int64)"
      ]
     },
     "execution_count": 2,
     "metadata": {},
     "output_type": "execute_result"
    }
   ],
   "source": [
    "np.max(train,axis=0)"
   ]
  },
  {
   "cell_type": "code",
   "execution_count": 3,
   "metadata": {},
   "outputs": [],
   "source": [
    "k = 20    # 隐因子数量\n",
    "\n",
    "glob_mean = np.mean(train[:, 2])    # 全局均分\n",
    "\n",
    "bi = np.zeros(n_items)\n",
    "bu = np.zeros(n_users)\n",
    "qi = np.zeros((n_items, k))\n",
    "pu = np.zeros((n_users, k))\n",
    "\n",
    "# 查询用字典，避免生成大型稀疏矩阵\n",
    "item_user_dict = dict()\n",
    "user_item_dict = dict()"
   ]
  },
  {
   "cell_type": "code",
   "execution_count": 4,
   "metadata": {},
   "outputs": [],
   "source": [
    "for sample in train:\n",
    "    user_id,item_id,rating=sample\n",
    "    item_user_dict.setdefault(item_id,{})\n",
    "    user_item_dict.setdefault(user_id,{})\n",
    "    \n",
    "    item_user_dict[item_id][user_id]=rating\n",
    "    user_item_dict[user_id][item_id]=rating"
   ]
  },
  {
   "cell_type": "code",
   "execution_count": 11,
   "metadata": {
    "scrolled": true
   },
   "outputs": [
    {
     "name": "stdout",
     "output_type": "stream",
     "text": [
      "0 0.8434991455144287\n",
      "1 0.8436565999913066\n",
      "2 0.8436005213010472\n",
      "3 0.8436614845061078\n",
      "4 0.8433439570864748\n",
      "5 0.8434972913557541\n",
      "6 0.8432513077754996\n",
      "7 0.843459197069637\n",
      "8 0.8431670911531315\n",
      "9 0.8435748585503104\n",
      "10 0.8433492386487466\n",
      "11 0.8431863576950571\n",
      "12 0.8434382732949214\n",
      "13 0.8431897445144341\n",
      "14 0.8431080678343126\n",
      "15 0.843247019463502\n",
      "16 0.8430651417595831\n",
      "17 0.8431369740246276\n",
      "18 0.8428642142854341\n",
      "19 0.8431213424913869\n"
     ]
    }
   ],
   "source": [
    "max_iter = 20\n",
    "lr = 0.01\n",
    "alpha = 0.1\n",
    "\n",
    "for epoch in range(max_iter):\n",
    "    MSE = 0\n",
    "    random_idxs = np.random.permutation(n_samples)\n",
    "\n",
    "    for idx in random_idxs:\n",
    "        user_id, item_id, rating = train[idx]\n",
    "        y_pred = glob_mean+bi[item_id]+bu[user_id] + \\\n",
    "            np.dot(qi[item_id], pu[user_id].T)\n",
    "        err = rating-y_pred\n",
    "        MSE += err**2\n",
    "\n",
    "        bu[user_id] += lr*(err-alpha*bu[user_id])\n",
    "        bi[item_id] += lr*(err-alpha*bi[item_id])\n",
    "        tmp = qi[item_id]\n",
    "        qi[item_id] += lr*(err*pu[user_id]-alpha*qi[item_id])\n",
    "        pu[user_id] += lr*(err*tmp-alpha*pu[user_id])\n",
    "\n",
    "    MSE /= n_samples\n",
    "    print(epoch,MSE)"
   ]
  },
  {
   "cell_type": "code",
   "execution_count": 12,
   "metadata": {},
   "outputs": [
    {
     "name": "stdout",
     "output_type": "stream",
     "text": [
      "0.9139544401844456\n"
     ]
    }
   ],
   "source": [
    "Y_pred=list()\n",
    "test_mse=0\n",
    "for sample in test:\n",
    "    user_id, item_id, rating = sample\n",
    "    y_pred=glob_mean+bi[item_id]+bu[user_id] + \\\n",
    "            np.dot(qi[item_id], pu[user_id].T)\n",
    "    test_mse+=(rating-y_pred)**2\n",
    "test_mse/=len(test)\n",
    "    \n",
    "print(test_mse)"
   ]
  },
  {
   "cell_type": "code",
   "execution_count": null,
   "metadata": {},
   "outputs": [],
   "source": []
  }
 ],
 "metadata": {
  "hide_input": false,
  "kernelspec": {
   "display_name": "Python 3",
   "language": "python",
   "name": "python3"
  },
  "language_info": {
   "codemirror_mode": {
    "name": "ipython",
    "version": 3
   },
   "file_extension": ".py",
   "mimetype": "text/x-python",
   "name": "python",
   "nbconvert_exporter": "python",
   "pygments_lexer": "ipython3",
   "version": "3.6.6"
  },
  "toc": {
   "base_numbering": 1,
   "nav_menu": {},
   "number_sections": true,
   "sideBar": true,
   "skip_h1_title": false,
   "title_cell": "Table of Contents",
   "title_sidebar": "Contents",
   "toc_cell": false,
   "toc_position": {},
   "toc_section_display": true,
   "toc_window_display": false
  }
 },
 "nbformat": 4,
 "nbformat_minor": 2
}
